{
 "cells": [
  {
   "cell_type": "markdown",
   "id": "8b48b6c3-a83e-41db-a4f7-ffccf8e5385c",
   "metadata": {},
   "source": [
    "## This script contains \n",
    "\n",
    "This script contains the following:  \n",
    "1. Importing your libraries and data  \n",
    "2. Subsetting, wrangling, and cleaning time-series data  \n",
    "3. Time series analysis: decomposition  \n",
    "4. Testing for stationarity  \n",
    "5. Stationarizing the Federal Reserve Economic Data"
   ]
  },
  {
   "cell_type": "markdown",
   "id": "48175ba1-20c3-46dd-a1b8-d2f0daa11a27",
   "metadata": {},
   "source": [
    "## 1. Import Libraries and Data"
   ]
  },
  {
   "cell_type": "code",
   "execution_count": 1,
   "id": "6a87fe42-701f-4499-97cb-9c47d452bae3",
   "metadata": {},
   "outputs": [
    {
     "name": "stdout",
     "output_type": "stream",
     "text": [
      "Requirement already satisfied: quandl in c:\\users\\supri\\anaconda3\\lib\\site-packages (3.7.0)\n",
      "Requirement already satisfied: pandas>=0.14 in c:\\users\\supri\\anaconda3\\lib\\site-packages (from quandl) (2.2.3)\n",
      "Requirement already satisfied: numpy>=1.8 in c:\\users\\supri\\anaconda3\\lib\\site-packages (from quandl) (1.26.4)\n",
      "Requirement already satisfied: requests>=2.7.0 in c:\\users\\supri\\anaconda3\\lib\\site-packages (from quandl) (2.32.3)\n",
      "Requirement already satisfied: inflection>=0.3.1 in c:\\users\\supri\\anaconda3\\lib\\site-packages (from quandl) (0.5.1)\n",
      "Requirement already satisfied: python-dateutil in c:\\users\\supri\\anaconda3\\lib\\site-packages (from quandl) (2.9.0.post0)\n",
      "Requirement already satisfied: six in c:\\users\\supri\\anaconda3\\lib\\site-packages (from quandl) (1.16.0)\n",
      "Requirement already satisfied: more-itertools in c:\\users\\supri\\anaconda3\\lib\\site-packages (from quandl) (10.3.0)\n",
      "Requirement already satisfied: pytz>=2020.1 in c:\\users\\supri\\anaconda3\\lib\\site-packages (from pandas>=0.14->quandl) (2024.1)\n",
      "Requirement already satisfied: tzdata>=2022.7 in c:\\users\\supri\\anaconda3\\lib\\site-packages (from pandas>=0.14->quandl) (2023.3)\n",
      "Requirement already satisfied: charset-normalizer<4,>=2 in c:\\users\\supri\\anaconda3\\lib\\site-packages (from requests>=2.7.0->quandl) (3.3.2)\n",
      "Requirement already satisfied: idna<4,>=2.5 in c:\\users\\supri\\anaconda3\\lib\\site-packages (from requests>=2.7.0->quandl) (3.7)\n",
      "Requirement already satisfied: urllib3<3,>=1.21.1 in c:\\users\\supri\\anaconda3\\lib\\site-packages (from requests>=2.7.0->quandl) (2.2.3)\n",
      "Requirement already satisfied: certifi>=2017.4.17 in c:\\users\\supri\\anaconda3\\lib\\site-packages (from requests>=2.7.0->quandl) (2025.1.31)\n",
      "Requirement already satisfied: nasdaq-data-link in c:\\users\\supri\\anaconda3\\lib\\site-packages (1.0.4)\n",
      "Requirement already satisfied: pandas>=0.14 in c:\\users\\supri\\anaconda3\\lib\\site-packages (from nasdaq-data-link) (2.2.3)\n",
      "Requirement already satisfied: numpy>=1.8 in c:\\users\\supri\\anaconda3\\lib\\site-packages (from nasdaq-data-link) (1.26.4)\n",
      "Requirement already satisfied: requests>=2.7.0 in c:\\users\\supri\\anaconda3\\lib\\site-packages (from nasdaq-data-link) (2.32.3)\n",
      "Requirement already satisfied: inflection>=0.3.1 in c:\\users\\supri\\anaconda3\\lib\\site-packages (from nasdaq-data-link) (0.5.1)\n",
      "Requirement already satisfied: python-dateutil in c:\\users\\supri\\anaconda3\\lib\\site-packages (from nasdaq-data-link) (2.9.0.post0)\n",
      "Requirement already satisfied: six in c:\\users\\supri\\anaconda3\\lib\\site-packages (from nasdaq-data-link) (1.16.0)\n",
      "Requirement already satisfied: more-itertools in c:\\users\\supri\\anaconda3\\lib\\site-packages (from nasdaq-data-link) (10.3.0)\n",
      "Requirement already satisfied: pytz>=2020.1 in c:\\users\\supri\\anaconda3\\lib\\site-packages (from pandas>=0.14->nasdaq-data-link) (2024.1)\n",
      "Requirement already satisfied: tzdata>=2022.7 in c:\\users\\supri\\anaconda3\\lib\\site-packages (from pandas>=0.14->nasdaq-data-link) (2023.3)\n",
      "Requirement already satisfied: charset-normalizer<4,>=2 in c:\\users\\supri\\anaconda3\\lib\\site-packages (from requests>=2.7.0->nasdaq-data-link) (3.3.2)\n",
      "Requirement already satisfied: idna<4,>=2.5 in c:\\users\\supri\\anaconda3\\lib\\site-packages (from requests>=2.7.0->nasdaq-data-link) (3.7)\n",
      "Requirement already satisfied: urllib3<3,>=1.21.1 in c:\\users\\supri\\anaconda3\\lib\\site-packages (from requests>=2.7.0->nasdaq-data-link) (2.2.3)\n",
      "Requirement already satisfied: certifi>=2017.4.17 in c:\\users\\supri\\anaconda3\\lib\\site-packages (from requests>=2.7.0->nasdaq-data-link) (2025.1.31)\n",
      "C:\\Users\\supri\\anaconda3\\python.exe\n",
      "Requirement already satisfied: nasdaq-data-link in c:\\users\\supri\\anaconda3\\lib\\site-packages (1.0.4)\n",
      "Requirement already satisfied: pandas>=0.14 in c:\\users\\supri\\anaconda3\\lib\\site-packages (from nasdaq-data-link) (2.2.3)\n",
      "Requirement already satisfied: numpy>=1.8 in c:\\users\\supri\\anaconda3\\lib\\site-packages (from nasdaq-data-link) (1.26.4)\n",
      "Requirement already satisfied: requests>=2.7.0 in c:\\users\\supri\\anaconda3\\lib\\site-packages (from nasdaq-data-link) (2.32.3)\n",
      "Requirement already satisfied: inflection>=0.3.1 in c:\\users\\supri\\anaconda3\\lib\\site-packages (from nasdaq-data-link) (0.5.1)\n",
      "Requirement already satisfied: python-dateutil in c:\\users\\supri\\anaconda3\\lib\\site-packages (from nasdaq-data-link) (2.9.0.post0)\n",
      "Requirement already satisfied: six in c:\\users\\supri\\anaconda3\\lib\\site-packages (from nasdaq-data-link) (1.16.0)\n",
      "Requirement already satisfied: more-itertools in c:\\users\\supri\\anaconda3\\lib\\site-packages (from nasdaq-data-link) (10.3.0)\n",
      "Requirement already satisfied: pytz>=2020.1 in c:\\users\\supri\\anaconda3\\lib\\site-packages (from pandas>=0.14->nasdaq-data-link) (2024.1)\n",
      "Requirement already satisfied: tzdata>=2022.7 in c:\\users\\supri\\anaconda3\\lib\\site-packages (from pandas>=0.14->nasdaq-data-link) (2023.3)\n",
      "Requirement already satisfied: charset-normalizer<4,>=2 in c:\\users\\supri\\anaconda3\\lib\\site-packages (from requests>=2.7.0->nasdaq-data-link) (3.3.2)\n",
      "Requirement already satisfied: idna<4,>=2.5 in c:\\users\\supri\\anaconda3\\lib\\site-packages (from requests>=2.7.0->nasdaq-data-link) (3.7)\n",
      "Requirement already satisfied: urllib3<3,>=1.21.1 in c:\\users\\supri\\anaconda3\\lib\\site-packages (from requests>=2.7.0->nasdaq-data-link) (2.2.3)\n",
      "Requirement already satisfied: certifi>=2017.4.17 in c:\\users\\supri\\anaconda3\\lib\\site-packages (from requests>=2.7.0->nasdaq-data-link) (2025.1.31)\n",
      "Requirement already satisfied: nasdaq-data-link in c:\\users\\supri\\anaconda3\\lib\\site-packages (1.0.4)\n",
      "Requirement already satisfied: pandas>=0.14 in c:\\users\\supri\\anaconda3\\lib\\site-packages (from nasdaq-data-link) (2.2.3)\n",
      "Requirement already satisfied: numpy>=1.8 in c:\\users\\supri\\anaconda3\\lib\\site-packages (from nasdaq-data-link) (1.26.4)\n",
      "Requirement already satisfied: requests>=2.7.0 in c:\\users\\supri\\anaconda3\\lib\\site-packages (from nasdaq-data-link) (2.32.3)\n",
      "Requirement already satisfied: inflection>=0.3.1 in c:\\users\\supri\\anaconda3\\lib\\site-packages (from nasdaq-data-link) (0.5.1)\n",
      "Requirement already satisfied: python-dateutil in c:\\users\\supri\\anaconda3\\lib\\site-packages (from nasdaq-data-link) (2.9.0.post0)\n",
      "Requirement already satisfied: six in c:\\users\\supri\\anaconda3\\lib\\site-packages (from nasdaq-data-link) (1.16.0)\n",
      "Requirement already satisfied: more-itertools in c:\\users\\supri\\anaconda3\\lib\\site-packages (from nasdaq-data-link) (10.3.0)\n",
      "Requirement already satisfied: pytz>=2020.1 in c:\\users\\supri\\anaconda3\\lib\\site-packages (from pandas>=0.14->nasdaq-data-link) (2024.1)\n",
      "Requirement already satisfied: tzdata>=2022.7 in c:\\users\\supri\\anaconda3\\lib\\site-packages (from pandas>=0.14->nasdaq-data-link) (2023.3)\n",
      "Requirement already satisfied: charset-normalizer<4,>=2 in c:\\users\\supri\\anaconda3\\lib\\site-packages (from requests>=2.7.0->nasdaq-data-link) (3.3.2)\n",
      "Requirement already satisfied: idna<4,>=2.5 in c:\\users\\supri\\anaconda3\\lib\\site-packages (from requests>=2.7.0->nasdaq-data-link) (3.7)\n",
      "Requirement already satisfied: urllib3<3,>=1.21.1 in c:\\users\\supri\\anaconda3\\lib\\site-packages (from requests>=2.7.0->nasdaq-data-link) (2.2.3)\n",
      "Requirement already satisfied: certifi>=2017.4.17 in c:\\users\\supri\\anaconda3\\lib\\site-packages (from requests>=2.7.0->nasdaq-data-link) (2025.1.31)\n",
      "Requirement already satisfied: quandl in c:\\users\\supri\\anaconda3\\lib\\site-packages (3.7.0)\n",
      "Requirement already satisfied: pandas>=0.14 in c:\\users\\supri\\anaconda3\\lib\\site-packages (from quandl) (2.2.3)\n",
      "Requirement already satisfied: numpy>=1.8 in c:\\users\\supri\\anaconda3\\lib\\site-packages (from quandl) (1.26.4)\n",
      "Requirement already satisfied: requests>=2.7.0 in c:\\users\\supri\\anaconda3\\lib\\site-packages (from quandl) (2.32.3)\n",
      "Requirement already satisfied: inflection>=0.3.1 in c:\\users\\supri\\anaconda3\\lib\\site-packages (from quandl) (0.5.1)\n",
      "Requirement already satisfied: python-dateutil in c:\\users\\supri\\anaconda3\\lib\\site-packages (from quandl) (2.9.0.post0)\n",
      "Requirement already satisfied: six in c:\\users\\supri\\anaconda3\\lib\\site-packages (from quandl) (1.16.0)\n",
      "Requirement already satisfied: more-itertools in c:\\users\\supri\\anaconda3\\lib\\site-packages (from quandl) (10.3.0)\n",
      "Requirement already satisfied: pytz>=2020.1 in c:\\users\\supri\\anaconda3\\lib\\site-packages (from pandas>=0.14->quandl) (2024.1)\n",
      "Requirement already satisfied: tzdata>=2022.7 in c:\\users\\supri\\anaconda3\\lib\\site-packages (from pandas>=0.14->quandl) (2023.3)\n",
      "Requirement already satisfied: charset-normalizer<4,>=2 in c:\\users\\supri\\anaconda3\\lib\\site-packages (from requests>=2.7.0->quandl) (3.3.2)\n",
      "Requirement already satisfied: idna<4,>=2.5 in c:\\users\\supri\\anaconda3\\lib\\site-packages (from requests>=2.7.0->quandl) (3.7)\n",
      "Requirement already satisfied: urllib3<3,>=1.21.1 in c:\\users\\supri\\anaconda3\\lib\\site-packages (from requests>=2.7.0->quandl) (2.2.3)\n",
      "Requirement already satisfied: certifi>=2017.4.17 in c:\\users\\supri\\anaconda3\\lib\\site-packages (from requests>=2.7.0->quandl) (2025.1.31)\n"
     ]
    }
   ],
   "source": [
    "!pip install quandl\n",
    "!pip install nasdaq-data-link\n",
    "#import Nasdaqdatalink\n",
    "import quandl\n",
    "\n",
    "import sys\n",
    "print(sys.executable)\n",
    "import sys\n",
    "!{sys.executable} -m pip install nasdaq-data-link\n",
    "import sys\n",
    "!{sys.executable} -m pip install nasdaq-data-link --upgrade\n",
    "!{sys.executable} -m pip install quandl"
   ]
  },
  {
   "cell_type": "code",
   "execution_count": 2,
   "id": "4285d72f-ec9e-4063-b940-9b710103a71a",
   "metadata": {},
   "outputs": [],
   "source": [
    "import quandl\n",
    "import nasdaqdatalink\n",
    "#import nasdaq_data_link\n",
    "import pandas as pd\n",
    "import numpy as np\n",
    "import seaborn as sns\n",
    "import matplotlib\n",
    "import matplotlib.pyplot as plt\n",
    "import statsmodels.api as sm # Using .api imports the public access version of statsmodels, which is a library that handles \n",
    "# statistical models.\n",
    "import os\n",
    "import warnings # This is a library that handles warnings.\n",
    "\n",
    "\n",
    "warnings.filterwarnings(\"ignore\") # Disable deprecation warnings that could indicate, for instance, a suspended library or \n",
    "# feature. These are more relevant to developers and very seldom to analysts.\n",
    "import gc\n",
    "plt.style.use('fivethirtyeight') # This is a styling option for how your plots will appear. More examples here:\n",
    "# https://matplotlib.org/3.2.1/tutorials/introductory/customizing.html\n",
    "# https://matplotlib.org/3.1.0/gallery/style_sheets/fivethirtyeight.html"
   ]
  },
  {
   "cell_type": "code",
   "execution_count": 3,
   "id": "dd1fe45e-2bf5-45a3-afc7-21ebc27a45f3",
   "metadata": {},
   "outputs": [],
   "source": [
    "# Configure API key \n",
    "\n",
    "#quandl.ApiConfig.api_key = 'PYmzEPFymWTHg-VVGksL'\n",
    "\n",
    "# Importing Federal Reserve Economic Data  variable.\n",
    "#data = quandl.get('OPEC/ORB')"
   ]
  },
  {
   "cell_type": "code",
   "execution_count": 4,
   "id": "c12d6fbf-02b5-4d1b-9072-29e1ea9036af",
   "metadata": {},
   "outputs": [],
   "source": [
    "#Nasdaqdatalink.ApiConfig.api_key = 'PYmzEPFymWTHg-VVGksL'\n",
    "#df = Nasdaqdatalink.get_table(dataset='WIKI/APPL', pagiantion = True, api_key = 'PYmzEPFymWTHg-VVGksL')"
   ]
  },
  {
   "cell_type": "code",
   "execution_count": 5,
   "id": "8456222c-db2e-4d05-879c-2506a3f3c036",
   "metadata": {},
   "outputs": [],
   "source": [
    "# Set API key\n",
    "#nasdaq_data_link.ApiConfig.api_key = 'PYmzEPFymWTHg-VVGksL'\n",
    "\n",
    "# Fetch data\n",
    "#df = nasdaq_data_link.get(dataset='WIKI/AAPL', paginate=True)"
   ]
  },
  {
   "cell_type": "code",
   "execution_count": 6,
   "id": "4cac1c16-c9b8-4fd6-8a96-78dea2d58e36",
   "metadata": {},
   "outputs": [],
   "source": [
    "# Set API key\n",
    "quandl.ApiConfig.api_key= 'g5rsaJW2evgvB4JYWywC'\n",
    "\n",
    "# Fetch data\n",
    "#df = quandl.get(dataset='WIKI/AAPL', paginate=True)\n",
    "#df = quandl.get(\"FRED/GDP\")\n",
    "#data = quandl.get('FRED/NROU')"
   ]
  },
  {
   "cell_type": "code",
   "execution_count": 7,
   "id": "c65e7154-9610-4198-b20a-2f2beec89c84",
   "metadata": {},
   "outputs": [],
   "source": [
    "# Import Data\n",
    "# Create path\n",
    "path = r'C:\\Users\\supri\\Desktop\\Supriya\\DataAnalysis\\Project\\Data Immersion\\Achievement 1-2\\Boat_Sales'\n",
    "# Import the merged data set\n",
    "df = pd.read_csv(os.path.join(path, '02 Data', 'Prepared data', 'FRED-NROU.csv'), index_col = 0)"
   ]
  },
  {
   "cell_type": "code",
   "execution_count": 8,
   "id": "bf87f060-647e-498f-a654-c55c595e5b27",
   "metadata": {},
   "outputs": [
    {
     "data": {
      "text/html": [
       "<div>\n",
       "<style scoped>\n",
       "    .dataframe tbody tr th:only-of-type {\n",
       "        vertical-align: middle;\n",
       "    }\n",
       "\n",
       "    .dataframe tbody tr th {\n",
       "        vertical-align: top;\n",
       "    }\n",
       "\n",
       "    .dataframe thead th {\n",
       "        text-align: right;\n",
       "    }\n",
       "</style>\n",
       "<table border=\"1\" class=\"dataframe\">\n",
       "  <thead>\n",
       "    <tr style=\"text-align: right;\">\n",
       "      <th></th>\n",
       "      <th>VALUE</th>\n",
       "    </tr>\n",
       "    <tr>\n",
       "      <th>DATE</th>\n",
       "      <th></th>\n",
       "    </tr>\n",
       "  </thead>\n",
       "  <tbody>\n",
       "    <tr>\n",
       "      <th>2016-10-01</th>\n",
       "      <td>4.8</td>\n",
       "    </tr>\n",
       "    <tr>\n",
       "      <th>2016-07-01</th>\n",
       "      <td>4.8</td>\n",
       "    </tr>\n",
       "    <tr>\n",
       "      <th>2016-04-01</th>\n",
       "      <td>4.8</td>\n",
       "    </tr>\n",
       "    <tr>\n",
       "      <th>2016-01-01</th>\n",
       "      <td>4.9</td>\n",
       "    </tr>\n",
       "    <tr>\n",
       "      <th>2015-10-01</th>\n",
       "      <td>4.9</td>\n",
       "    </tr>\n",
       "  </tbody>\n",
       "</table>\n",
       "</div>"
      ],
      "text/plain": [
       "            VALUE\n",
       "DATE             \n",
       "2016-10-01    4.8\n",
       "2016-07-01    4.8\n",
       "2016-04-01    4.8\n",
       "2016-01-01    4.9\n",
       "2015-10-01    4.9"
      ]
     },
     "execution_count": 8,
     "metadata": {},
     "output_type": "execute_result"
    }
   ],
   "source": [
    "df.head(5)"
   ]
  },
  {
   "cell_type": "code",
   "execution_count": 9,
   "id": "f503cb0c-7d5d-47f8-9681-27e2b78c7593",
   "metadata": {},
   "outputs": [
    {
     "data": {
      "text/plain": [
       "(272, 1)"
      ]
     },
     "execution_count": 9,
     "metadata": {},
     "output_type": "execute_result"
    }
   ],
   "source": [
    "df.shape"
   ]
  },
  {
   "cell_type": "code",
   "execution_count": 10,
   "id": "683390d1-70aa-409f-8b1a-5d9b9db1a541",
   "metadata": {},
   "outputs": [
    {
     "data": {
      "text/plain": [
       "Index(['VALUE'], dtype='object')"
      ]
     },
     "execution_count": 10,
     "metadata": {},
     "output_type": "execute_result"
    }
   ],
   "source": [
    "df.columns"
   ]
  },
  {
   "cell_type": "code",
   "execution_count": 11,
   "id": "abbfb063-d0ad-450f-933c-3eae6e46861d",
   "metadata": {},
   "outputs": [
    {
     "data": {
      "text/plain": [
       "pandas.core.frame.DataFrame"
      ]
     },
     "execution_count": 11,
     "metadata": {},
     "output_type": "execute_result"
    }
   ],
   "source": [
    "type(df)"
   ]
  },
  {
   "cell_type": "code",
   "execution_count": 12,
   "id": "a0b5a821-6e54-498a-95fb-b3e9e2a26f34",
   "metadata": {},
   "outputs": [
    {
     "ename": "KeyError",
     "evalue": "'DATE'",
     "output_type": "error",
     "traceback": [
      "\u001b[1;31m---------------------------------------------------------------------------\u001b[0m",
      "\u001b[1;31mKeyError\u001b[0m                                  Traceback (most recent call last)",
      "File \u001b[1;32m~\\anaconda3\\Lib\\site-packages\\pandas\\core\\indexes\\base.py:3805\u001b[0m, in \u001b[0;36mIndex.get_loc\u001b[1;34m(self, key)\u001b[0m\n\u001b[0;32m   3804\u001b[0m \u001b[38;5;28;01mtry\u001b[39;00m:\n\u001b[1;32m-> 3805\u001b[0m     \u001b[38;5;28;01mreturn\u001b[39;00m \u001b[38;5;28mself\u001b[39m\u001b[38;5;241m.\u001b[39m_engine\u001b[38;5;241m.\u001b[39mget_loc(casted_key)\n\u001b[0;32m   3806\u001b[0m \u001b[38;5;28;01mexcept\u001b[39;00m \u001b[38;5;167;01mKeyError\u001b[39;00m \u001b[38;5;28;01mas\u001b[39;00m err:\n",
      "File \u001b[1;32mindex.pyx:167\u001b[0m, in \u001b[0;36mpandas._libs.index.IndexEngine.get_loc\u001b[1;34m()\u001b[0m\n",
      "File \u001b[1;32mindex.pyx:196\u001b[0m, in \u001b[0;36mpandas._libs.index.IndexEngine.get_loc\u001b[1;34m()\u001b[0m\n",
      "File \u001b[1;32mpandas\\\\_libs\\\\hashtable_class_helper.pxi:7081\u001b[0m, in \u001b[0;36mpandas._libs.hashtable.PyObjectHashTable.get_item\u001b[1;34m()\u001b[0m\n",
      "File \u001b[1;32mpandas\\\\_libs\\\\hashtable_class_helper.pxi:7089\u001b[0m, in \u001b[0;36mpandas._libs.hashtable.PyObjectHashTable.get_item\u001b[1;34m()\u001b[0m\n",
      "\u001b[1;31mKeyError\u001b[0m: 'DATE'",
      "\nThe above exception was the direct cause of the following exception:\n",
      "\u001b[1;31mKeyError\u001b[0m                                  Traceback (most recent call last)",
      "Cell \u001b[1;32mIn[12], line 4\u001b[0m\n\u001b[0;32m      1\u001b[0m \u001b[38;5;66;03m# Plot the data using matplotlib.\u001b[39;00m\n\u001b[1;32m----> 4\u001b[0m df[\u001b[38;5;124m'\u001b[39m\u001b[38;5;124mDATE\u001b[39m\u001b[38;5;124m'\u001b[39m] \u001b[38;5;241m=\u001b[39m pd\u001b[38;5;241m.\u001b[39mto_datetime(df[\u001b[38;5;124m'\u001b[39m\u001b[38;5;124mDATE\u001b[39m\u001b[38;5;124m'\u001b[39m])\n\u001b[0;32m      6\u001b[0m plt\u001b[38;5;241m.\u001b[39mfigure(figsize\u001b[38;5;241m=\u001b[39m(\u001b[38;5;241m15\u001b[39m,\u001b[38;5;241m5\u001b[39m), dpi\u001b[38;5;241m=\u001b[39m\u001b[38;5;241m100\u001b[39m)\n\u001b[0;32m      7\u001b[0m plt\u001b[38;5;241m.\u001b[39mplot(df[\u001b[38;5;124m'\u001b[39m\u001b[38;5;124mDATE\u001b[39m\u001b[38;5;124m'\u001b[39m], df[\u001b[38;5;124m'\u001b[39m\u001b[38;5;124mVALUE\u001b[39m\u001b[38;5;124m'\u001b[39m])\n",
      "File \u001b[1;32m~\\anaconda3\\Lib\\site-packages\\pandas\\core\\frame.py:4102\u001b[0m, in \u001b[0;36mDataFrame.__getitem__\u001b[1;34m(self, key)\u001b[0m\n\u001b[0;32m   4100\u001b[0m \u001b[38;5;28;01mif\u001b[39;00m \u001b[38;5;28mself\u001b[39m\u001b[38;5;241m.\u001b[39mcolumns\u001b[38;5;241m.\u001b[39mnlevels \u001b[38;5;241m>\u001b[39m \u001b[38;5;241m1\u001b[39m:\n\u001b[0;32m   4101\u001b[0m     \u001b[38;5;28;01mreturn\u001b[39;00m \u001b[38;5;28mself\u001b[39m\u001b[38;5;241m.\u001b[39m_getitem_multilevel(key)\n\u001b[1;32m-> 4102\u001b[0m indexer \u001b[38;5;241m=\u001b[39m \u001b[38;5;28mself\u001b[39m\u001b[38;5;241m.\u001b[39mcolumns\u001b[38;5;241m.\u001b[39mget_loc(key)\n\u001b[0;32m   4103\u001b[0m \u001b[38;5;28;01mif\u001b[39;00m is_integer(indexer):\n\u001b[0;32m   4104\u001b[0m     indexer \u001b[38;5;241m=\u001b[39m [indexer]\n",
      "File \u001b[1;32m~\\anaconda3\\Lib\\site-packages\\pandas\\core\\indexes\\base.py:3812\u001b[0m, in \u001b[0;36mIndex.get_loc\u001b[1;34m(self, key)\u001b[0m\n\u001b[0;32m   3807\u001b[0m     \u001b[38;5;28;01mif\u001b[39;00m \u001b[38;5;28misinstance\u001b[39m(casted_key, \u001b[38;5;28mslice\u001b[39m) \u001b[38;5;129;01mor\u001b[39;00m (\n\u001b[0;32m   3808\u001b[0m         \u001b[38;5;28misinstance\u001b[39m(casted_key, abc\u001b[38;5;241m.\u001b[39mIterable)\n\u001b[0;32m   3809\u001b[0m         \u001b[38;5;129;01mand\u001b[39;00m \u001b[38;5;28many\u001b[39m(\u001b[38;5;28misinstance\u001b[39m(x, \u001b[38;5;28mslice\u001b[39m) \u001b[38;5;28;01mfor\u001b[39;00m x \u001b[38;5;129;01min\u001b[39;00m casted_key)\n\u001b[0;32m   3810\u001b[0m     ):\n\u001b[0;32m   3811\u001b[0m         \u001b[38;5;28;01mraise\u001b[39;00m InvalidIndexError(key)\n\u001b[1;32m-> 3812\u001b[0m     \u001b[38;5;28;01mraise\u001b[39;00m \u001b[38;5;167;01mKeyError\u001b[39;00m(key) \u001b[38;5;28;01mfrom\u001b[39;00m \u001b[38;5;21;01merr\u001b[39;00m\n\u001b[0;32m   3813\u001b[0m \u001b[38;5;28;01mexcept\u001b[39;00m \u001b[38;5;167;01mTypeError\u001b[39;00m:\n\u001b[0;32m   3814\u001b[0m     \u001b[38;5;66;03m# If we have a listlike key, _check_indexing_error will raise\u001b[39;00m\n\u001b[0;32m   3815\u001b[0m     \u001b[38;5;66;03m#  InvalidIndexError. Otherwise we fall through and re-raise\u001b[39;00m\n\u001b[0;32m   3816\u001b[0m     \u001b[38;5;66;03m#  the TypeError.\u001b[39;00m\n\u001b[0;32m   3817\u001b[0m     \u001b[38;5;28mself\u001b[39m\u001b[38;5;241m.\u001b[39m_check_indexing_error(key)\n",
      "\u001b[1;31mKeyError\u001b[0m: 'DATE'"
     ]
    }
   ],
   "source": [
    "# Plot the data using matplotlib.\n",
    "\n",
    "\n",
    "df['DATE'] = pd.to_datetime(df['DATE'])\n",
    "\n",
    "plt.figure(figsize=(15,5), dpi=100)\n",
    "plt.plot(df['DATE'], df['VALUE'])\n",
    "plt.show()\n"
   ]
  },
  {
   "cell_type": "markdown",
   "id": "bccb141a-1895-410a-92a0-5c4af65d6002",
   "metadata": {},
   "source": [
    "### 2. Subsetting, wrangling, and cleaning time-series data"
   ]
  },
  {
   "cell_type": "code",
   "execution_count": null,
   "id": "e3b160a0-a141-4281-9d5d-556f7104dffc",
   "metadata": {},
   "outputs": [],
   "source": [
    "data_2 = df.drop(columns=['SMA', 'Month', 'Year', 'Date_new'], errors='ignore').reset_index()"
   ]
  },
  {
   "cell_type": "code",
   "execution_count": null,
   "id": "054e6777-be4b-4309-8371-ec81f5a32e29",
   "metadata": {},
   "outputs": [],
   "source": [
    "data_2.head()"
   ]
  },
  {
   "cell_type": "code",
   "execution_count": null,
   "id": "382bb1fc-2a68-4a01-a04a-bf219a18bd45",
   "metadata": {},
   "outputs": [],
   "source": [
    "data_2 = data_2.drop(columns=['index'])"
   ]
  },
  {
   "cell_type": "code",
   "execution_count": null,
   "id": "73806a26-e81c-4afc-8ae3-3eff45c7e11c",
   "metadata": {},
   "outputs": [],
   "source": [
    "data_sub = data_2.loc[(data_2['DATE'] >= '1980-01-01') & (data_2['DATE'] < '2020-06-01')]"
   ]
  },
  {
   "cell_type": "code",
   "execution_count": null,
   "id": "b04bedf3-b896-441c-8168-dadd04b00975",
   "metadata": {},
   "outputs": [],
   "source": [
    "data_sub.shape"
   ]
  },
  {
   "cell_type": "code",
   "execution_count": null,
   "id": "bdbdc010-8ec9-42f0-880c-fcb75bed4239",
   "metadata": {},
   "outputs": [],
   "source": [
    "data_sub.head()"
   ]
  },
  {
   "cell_type": "code",
   "execution_count": null,
   "id": "9de61d87-04cf-42fb-bb55-04717dbce88a",
   "metadata": {},
   "outputs": [],
   "source": [
    "# Set the \"Date\" column as the index\n",
    "\n",
    "from datetime import datetime\n",
    "\n",
    "data_sub['datetime'] = pd.to_datetime(data_sub['DATE']) # Create a datetime column from \"Date.\"\"\n",
    "data_sub = data_sub.set_index('datetime') # Set the datetime as the index of the dataframe.\n",
    "data_sub.drop(['DATE'], axis=1, inplace=True) # Drop the \"Date\" column.\n",
    "data_sub.head()"
   ]
  },
  {
   "cell_type": "code",
   "execution_count": null,
   "id": "ab01025a-6ccd-404a-a55c-15efcff04dad",
   "metadata": {},
   "outputs": [],
   "source": [
    "# Plot the new data set\n",
    "\n",
    "plt.figure(figsize=(15,5), dpi=100)\n",
    "plt.plot(data_sub)"
   ]
  },
  {
   "cell_type": "code",
   "execution_count": null,
   "id": "d1cc3ae2-8ab7-4c4f-8c18-741ca6c468f6",
   "metadata": {},
   "outputs": [],
   "source": [
    "# Check for missing values (you shouldn't have any)\n",
    "\n",
    "data_sub.isnull().sum() "
   ]
  },
  {
   "cell_type": "code",
   "execution_count": null,
   "id": "7a33427f-213e-4031-94ea-25adcc7ac988",
   "metadata": {},
   "outputs": [],
   "source": [
    "# Check for duplicates\n",
    "\n",
    "dups = data_sub.duplicated()\n",
    "dups.sum()"
   ]
  },
  {
   "cell_type": "code",
   "execution_count": null,
   "id": "b0829d18-66fb-4b23-9a55-117610cfb0b3",
   "metadata": {},
   "outputs": [],
   "source": [
    "for col in data_sub.columns:\n",
    "    num_duplicates = data_sub[col].duplicated().sum()\n",
    "    print(f\"Column '{col}' has {num_duplicates} duplicate values.\")"
   ]
  },
  {
   "cell_type": "markdown",
   "id": "3eda5dc5-a966-41a9-822a-7b3229c394b4",
   "metadata": {},
   "source": [
    "##### Time series data is indexed by time (DATE), so uniqueness usually depends on the time points.It’s common to have the same VALUE at different time points so not removing the duplicate vlaues."
   ]
  },
  {
   "cell_type": "markdown",
   "id": "56f93f52-4b40-49f0-8b0c-eae204f1adfe",
   "metadata": {},
   "source": [
    "### 3. Time-series analysis: decomposition"
   ]
  },
  {
   "cell_type": "code",
   "execution_count": null,
   "id": "2a8b787b-0edd-407e-9c91-6805eb6a4cc8",
   "metadata": {},
   "outputs": [],
   "source": [
    "# Decompose the time series using an additive model\n",
    "\n",
    "decomposition = sm.tsa.seasonal_decompose(data_sub, model='additive')"
   ]
  },
  {
   "cell_type": "code",
   "execution_count": null,
   "id": "941dfd9f-8079-4997-a7cb-eff344ccf38d",
   "metadata": {},
   "outputs": [],
   "source": [
    "from pylab import rcParams # This will define a fixed size for all special charts.\n",
    "\n",
    "rcParams['figure.figsize'] = 18, 7"
   ]
  },
  {
   "cell_type": "code",
   "execution_count": null,
   "id": "73fdbe05-353f-4207-afd0-7b4c48559942",
   "metadata": {},
   "outputs": [],
   "source": [
    "# Plot the separate components\n",
    "\n",
    "decomposition.plot()\n",
    "plt.show()"
   ]
  },
  {
   "cell_type": "markdown",
   "id": "545a7c35-f272-4f54-9847-82271df89695",
   "metadata": {},
   "source": [
    "### 4. Testing for stationarity"
   ]
  },
  {
   "cell_type": "code",
   "execution_count": null,
   "id": "b7c6a5b8-90ef-4207-9011-1f91d5a66694",
   "metadata": {},
   "outputs": [],
   "source": [
    "# The adfuller() function will import from the model from statsmodels for the test; however, running it will only return \n",
    "# an array of numbers. This is why you need to also define a function that prints the correct output from that array.\n",
    "\n",
    "from statsmodels.tsa.stattools import adfuller # Import the adfuller() function\n",
    "\n",
    "def dickey_fuller(timeseries): # Define the function\n",
    "    # Perform the Dickey-Fuller test:\n",
    "    print ('Dickey-Fuller Stationarity test:')\n",
    "    test = adfuller(timeseries, autolag='AIC')\n",
    "    result = pd.Series(test[0:4], index=['Test Statistic','p-value','Number of Lags Used','Number of Observations Used'])\n",
    "    for key,value in test[4].items():\n",
    "       result['Critical Value (%s)'%key] = value\n",
    "    print (result)\n",
    "\n",
    "# Apply the test using the function on the time series\n",
    "dickey_fuller(data_sub['VALUE'])"
   ]
  },
  {
   "cell_type": "code",
   "execution_count": null,
   "id": "f37017c9-4ec6-40a9-bb61-24deb775ca0c",
   "metadata": {},
   "outputs": [],
   "source": [
    "# Check out a plot of autocorrelations\n",
    "\n",
    "from statsmodels.graphics.tsaplots import plot_acf, plot_pacf # Here, you import the autocorrelation and partial correlation plots\n",
    "\n",
    "plot_acf(data_sub)\n",
    "plt.show()"
   ]
  },
  {
   "cell_type": "markdown",
   "id": "a8d7b6ec-7f37-4729-8036-b4134a0e6ca2",
   "metadata": {},
   "source": [
    "### 5. Stationarizing the Federal Reserve Economic Data"
   ]
  },
  {
   "cell_type": "code",
   "execution_count": null,
   "id": "90b4afdd-f730-4a2d-aadd-0402a480ed9f",
   "metadata": {},
   "outputs": [],
   "source": [
    "data_diff = data_sub - data_sub.shift(1) # The df.shift(1) function turns the observation to t-1, making the whole thing t - (t -1)"
   ]
  },
  {
   "cell_type": "code",
   "execution_count": null,
   "id": "d4007275-d2e9-4160-bcc8-5f29b9f772bc",
   "metadata": {},
   "outputs": [],
   "source": [
    "data_diff.dropna(inplace = True) # Here, you remove the missing values that came about as a result of the differencing. \n",
    "# You need to remove these or you won't be able to run the Dickey-Fuller test."
   ]
  },
  {
   "cell_type": "code",
   "execution_count": null,
   "id": "375a4ae3-00ae-4f54-bcc3-e59f540d37f9",
   "metadata": {},
   "outputs": [],
   "source": [
    "data_diff.head()"
   ]
  },
  {
   "cell_type": "code",
   "execution_count": null,
   "id": "52544d7e-b0a7-4ca7-8c64-b147312f17e7",
   "metadata": {},
   "outputs": [],
   "source": [
    "data_diff.columns"
   ]
  },
  {
   "cell_type": "code",
   "execution_count": null,
   "id": "807f2656-1215-45f3-ae75-81b9b3e46f95",
   "metadata": {},
   "outputs": [],
   "source": [
    "# Check out what the differencing did to the time-series curve\n",
    "\n",
    "plt.figure(figsize=(15,5), dpi=100)\n",
    "plt.plot(data_diff)"
   ]
  },
  {
   "cell_type": "code",
   "execution_count": null,
   "id": "6185b0b9-ab2b-4e5a-81c5-c4e72960e44a",
   "metadata": {},
   "outputs": [],
   "source": [
    "dickey_fuller(data_diff)"
   ]
  },
  {
   "cell_type": "code",
   "execution_count": null,
   "id": "35084a25-9d53-4fab-bb95-0eb10e54dbe5",
   "metadata": {},
   "outputs": [],
   "source": [
    "plot_acf(data_diff)\n",
    "plt.show()"
   ]
  },
  {
   "cell_type": "code",
   "execution_count": null,
   "id": "a563f5e1-6102-4bdd-a3e9-a817322bb06e",
   "metadata": {},
   "outputs": [],
   "source": []
  }
 ],
 "metadata": {
  "kernelspec": {
   "display_name": "Python 3 (ipykernel)",
   "language": "python",
   "name": "python3"
  },
  "language_info": {
   "codemirror_mode": {
    "name": "ipython",
    "version": 3
   },
   "file_extension": ".py",
   "mimetype": "text/x-python",
   "name": "python",
   "nbconvert_exporter": "python",
   "pygments_lexer": "ipython3",
   "version": "3.12.7"
  }
 },
 "nbformat": 4,
 "nbformat_minor": 5
}
